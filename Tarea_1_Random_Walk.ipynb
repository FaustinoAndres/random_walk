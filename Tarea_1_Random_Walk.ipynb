{
  "nbformat": 4,
  "nbformat_minor": 0,
  "metadata": {
    "colab": {
      "name": "Tarea 1 - Random Walk.ipynb",
      "provenance": [],
      "authorship_tag": "ABX9TyM5PzEGsuYYjOgqnBik1ak7",
      "include_colab_link": true
    },
    "kernelspec": {
      "name": "python3",
      "display_name": "Python 3"
    },
    "language_info": {
      "name": "python"
    }
  },
  "cells": [
    {
      "cell_type": "markdown",
      "metadata": {
        "id": "view-in-github",
        "colab_type": "text"
      },
      "source": [
        "<a href=\"https://colab.research.google.com/github/FaustinoAndres/random_walk/blob/main/Tarea_1_Random_Walk.ipynb\" target=\"_parent\"><img src=\"https://colab.research.google.com/assets/colab-badge.svg\" alt=\"Open In Colab\"/></a>"
      ]
    },
    {
      "cell_type": "markdown",
      "metadata": {
        "id": "-12gA-zHACh4"
      },
      "source": [
        "#Tarea 1 - Random Walk\n",
        "###Nombre: Faustino Correa Muñoz\n",
        "###Rol: 201241502-0"
      ]
    },
    {
      "cell_type": "markdown",
      "metadata": {
        "id": "F5_18_og-6VH"
      },
      "source": [
        " Haga un código (ojalá en Python) que modele la siguiente situación: en un dominio que va desde $-\\infty$ a $\\infty$ (por supuesto, no es realmente infinito en el computador), ponga N partículas en el origen y déjelas evolucionar según *random walk*:\n",
        "\n",
        "> Bloque con sangría\n",
        "\n"
      ]
    },
    {
      "cell_type": "markdown",
      "metadata": {
        "id": "hej43r3TArXT"
      },
      "source": [
        "$x(n+1) = \\left\\{ \\begin{array}{lcc}\n",
        "             x(n) + 1  &   con  & p = 0.5 \\\\\n",
        "             \\\\ x(n) - 1 &  con & p = 0.5\n",
        "             \\end{array}\n",
        "   \\right.$"
      ]
    },
    {
      "cell_type": "markdown",
      "metadata": {
        "id": "a13s1suVBUTO"
      },
      "source": [
        "donde $x$ es la posición, $p$ la probabilidad y $n$ el número de pasos. Realice la simulación $M$ veces y evalúe el promedio de número de partículas en cada ubicación para diferentes pasos $n$ ¿Ve una distribución Gausseana? Indique la desviación standard de distribución Gausseana que mejor se ajusta ¿Coincide con lo que vimos teóricamente? Recuerde: $\\sigma^{2}_{r} = l^{2} \\cdot \\sigma^{2}_{m} = l^{2}n$, donde $m$ es la diferencia de pasos hacia la izquierda y derecha. Para su simulación, use pasos discretos en el espacio con $l=1$ ($x$ es un entero)."
      ]
    },
    {
      "cell_type": "markdown",
      "metadata": {
        "id": "C2XtC3QiEmMd"
      },
      "source": [
        "**Abstract**\n",
        "\n",
        "En este trabajo se muestra la relación entre un modelo simple unidimensional de \"random walk\" y su relación con comportamientos macroscópicos, en particular con el mecanismo de difusión.\n",
        "A partir de la evolución de N partículas mediante Random walk en un tienmpo T, se realizan M simulaciones diferentes para hacer un promedio y atenuar las fluctuaciones (tener más riqueza estadística). Demostraremos que se llega a una distribución Gausseana, tal como la solución analítica."
      ]
    },
    {
      "cell_type": "markdown",
      "metadata": {
        "id": "7mhEVB5s6VA_"
      },
      "source": [
        "**Introducción**\n",
        "\n",
        "En 1827 el botánico Robert Brown, usando un microscopio descubrió que una partícula de polen suspendida en agua, tiene un comportamiento caótico, el cual se conoce como movimiento browniano. El trabajo de Einstein sobre el movimiento browniano entregó resultados que podían ser medidos y ser una prueba suficiente para demostrar la existencia de los átomos.\n",
        "\n",
        "En este caso, usaremos un modelo unidimensional de random walk para enlazar el mundo microscópico con la difusión de un fluido, que corresponde al mundo macroscópico\n"
      ]
    },
    {
      "cell_type": "markdown",
      "metadata": {
        "id": "3cUkWt9o00UM"
      },
      "source": [
        "**Metodología**\n",
        "\n",
        "En primer lugar importaremos las librerías y paquetes necesarios para trabajar con simulaciones computacionales"
      ]
    },
    {
      "cell_type": "code",
      "metadata": {
        "id": "0qsC1aBvHRun"
      },
      "source": [
        "import numpy as np\n",
        "import matplotlib.pyplot as plt\n",
        "import math\n",
        "from scipy.optimize import curve_fit"
      ],
      "execution_count": null,
      "outputs": []
    },
    {
      "cell_type": "markdown",
      "metadata": {
        "id": "Idn9KiH31XX7"
      },
      "source": [
        "Para reciclar código se utilizaremos una clase llamada `Particles`, la cual creará un conjunto de $N$ partículas que evolucionaran en un tiempo $T$. Los datos son almacenados en una matriz de tamaño $T \\times N$.\n",
        "\n",
        "Esta clase conta de los siguientes métodos:\n",
        "\n",
        "- `initial_conditions`:  Las condiciones iniciales representan la primera fila de la matrix de posiciones `x`, donde la mitad de las partículas inician desde la posición $x=0$ y la segunda mitad desde la posición $x=1$. Esto para evitar que las partículas solo esten en números pares o impares en un mismo instante de tiempo, con estas condiciones tendremos la mitad de las partículas en números pares y la segunda de números impares.\n",
        "\n",
        "- `random_walk`: este método genera una matriz de números aleatorios, escogidos del cinjunto $\\{-1, 1\\}$ con [numpy.random.choice](https://numpy.org/doc/stable/reference/random/generated/numpy.random.choice.html). Posteriormente vamos recorriendo por cada paso de tiempo y actualizando las posiciones. Se utiliza `numpy.random` por sobre la librería estándar `random` de python por su rendimiento. Después de que este método es ejecutado, tendremos la posición de cada una de las partículas en por cada paso de tiempo.\n",
        "\n",
        "- `density_random_walk`: este método surge de la necesidad de cuantificar cuantas partículas se encuentran en la misma posición por cada paso de tiempo. Para ello se crea un diccionarios que sus claves son las posiciones y su valor se va actualizando por cada repetición por cada paso de tiempo, estas son almacenadas en una lista. El resultado es una lista de largo $T$, que cada uno de sus elementos son diccionarios del tipo `{position: number of particles}`."
      ]
    },
    {
      "cell_type": "code",
      "metadata": {
        "id": "N5bRvjfUH8Vo"
      },
      "source": [
        "class Particles():\n",
        "  def __init__(self, N, T):\n",
        "    self.N = N\n",
        "    self.T = T\n",
        "    self.x = np.zeros((self.T, self.N), dtype=int)\n",
        "    self.t = 0\n",
        "    self.density = []\n",
        "    self.X = []\n",
        "    self.Y = []\n",
        "    self.random = [-1, 1]\n",
        "\n",
        "  def initial_conditions(self):\n",
        "    n = int(self.N/2)\n",
        "    self.x[0, :n] = 1\n",
        "\n",
        "  def random_walk(self):\n",
        "    rd_walk = np.random.choice(self.random, ((self.T-1, self.N)))\n",
        "    for t in range(1, self.T):\n",
        "      self.x[t, :] = self.x[t-1, :] + rd_walk[t-1, :]\n",
        "\n",
        "  def density_random_walk(self):\n",
        "    for t in range(self.T):\n",
        "      density = {}\n",
        "      for x in self.x[t, :]:\n",
        "        if x not in density:\n",
        "          density[x] = 1\n",
        "        else:\n",
        "          density[x] = density[x] + 1\n",
        "      self.density.append(density)\n"
      ],
      "execution_count": null,
      "outputs": []
    },
    {
      "cell_type": "markdown",
      "metadata": {
        "id": "F58DAaZB5-HR"
      },
      "source": [
        "Para probar este código generamos un conjunto de partículas llamada particles, que tendrá 5 partículas ($N=5$) que evolucionan durante 50 pasos de tiempo ($T=50$). Posteriormente graficaremos los resultados para visualizar como se comportan estás partículas."
      ]
    },
    {
      "cell_type": "code",
      "metadata": {
        "id": "hS-vMUzVavUx"
      },
      "source": [
        "particles = Particles(N = 5, T = 50)\n",
        "particles.initial_conditions()\n",
        "particles.random_walk()"
      ],
      "execution_count": null,
      "outputs": []
    },
    {
      "cell_type": "code",
      "metadata": {
        "colab": {
          "base_uri": "https://localhost:8080/",
          "height": 283
        },
        "id": "AKsLhxnuyBdY",
        "outputId": "387bfc93-ba94-4caf-a61e-62cd72f8b4de"
      },
      "source": [
        "t_0 = np.array([t for t in range(50)])\n",
        "for i in range(5):\n",
        "  plt.step(t_0, particles.x[:, i])\n",
        "plt.xlim([t_0[0], t_0[-1]])\n",
        "plt.xlabel(r'time [$\\tau$]')\n",
        "plt.ylabel(r'x [l]')\n",
        "plt.show()"
      ],
      "execution_count": null,
      "outputs": [
        {
          "output_type": "display_data",
          "data": {
            "image/png": "[encoded data removed]",
            "text/plain": [
              "<Figure size 432x288 with 1 Axes>"
            ]
          },
          "metadata": {
            "tags": [],
            "needs_background": "light"
          }
        }
      ]
    },
    {
      "cell_type": "markdown",
      "metadata": {
        "id": "cs7Aeuep7RCB"
      },
      "source": [
        "Con esto en mente"
      ]
    },
    {
      "cell_type": "code",
      "metadata": {
        "id": "e5wF6fpCbfAI"
      },
      "source": [
        "particles.density_random_walk()"
      ],
      "execution_count": null,
      "outputs": []
    },
    {
      "cell_type": "markdown",
      "metadata": {
        "id": "xV1En8E-7gix"
      },
      "source": [
        "Como no es suficiente solo usar un conjunto de partículas, se crea una clase llamada `Ensemble`, donde contendrá $M$ subconjunto de $N$ partículas, la cual consiste en generar $M$ simulaciones diferentes usando la clase `Particles`. El método simulation realiza las $M$ simulaciones de cada conjunto de partículas y son agregadas a la propiedad llamada `ensemble` (su tipo de dato es `list`)."
      ]
    },
    {
      "cell_type": "code",
      "metadata": {
        "id": "cqw9h9TmiOt4"
      },
      "source": [
        "class Ensemble():\n",
        "\n",
        "  def __init__(self, M, N, T):\n",
        "    self.M = M\n",
        "    self.N = N\n",
        "    self.T = T\n",
        "    self.ensemble = []\n",
        "\n",
        "  def simulation(self):\n",
        "\n",
        "    for _ in range(self.M):\n",
        "        particles = Particles(self.N, self.T)\n",
        "        particles.initial_conditions()\n",
        "        particles.random_walk()\n",
        "        particles.density_random_walk()\n",
        "        self.ensemble.append(particles)\n",
        "\n",
        "\n"
      ],
      "execution_count": null,
      "outputs": []
    },
    {
      "cell_type": "markdown",
      "metadata": {
        "id": "nbzssYRQ5c9Z"
      },
      "source": [
        "Generamos 100 conjuntos de 500 partículas que evolucionan según random walk. Los resultados finales son promediados y s"
      ]
    },
    {
      "cell_type": "code",
      "metadata": {
        "id": "1wGY9IavH9NO"
      },
      "source": [
        "M = 100\n",
        "N = 500\n",
        "T = 5000\n",
        "ensemble = Ensemble(M,N,T)"
      ],
      "execution_count": null,
      "outputs": []
    },
    {
      "cell_type": "code",
      "metadata": {
        "id": "-SKDpRt5mz21"
      },
      "source": [
        "ensemble.simulation()"
      ],
      "execution_count": null,
      "outputs": []
    },
    {
      "cell_type": "code",
      "metadata": {
        "colab": {
          "base_uri": "https://localhost:8080/"
        },
        "id": "183lTy4pxXBt",
        "outputId": "ab539e55-71ae-464c-e988-f814a13c2099"
      },
      "source": [
        "print(ensemble)"
      ],
      "execution_count": null,
      "outputs": [
        {
          "output_type": "stream",
          "text": [
            "<__main__.Ensemble object at 0x7f7e67b04990>\n"
          ],
          "name": "stdout"
        }
      ]
    },
    {
      "cell_type": "markdown",
      "metadata": {
        "id": "KvdA2T1l60Hl"
      },
      "source": [
        "Una vez que la simulación es realizada, procederemos a unificar todos los resultados, es decir, totas las partículas con sus posiciones durante cada paso de tiempo, y crear una lista llamada `density_total`, que contenga toda la información del ensemble. La función merge genera `density_total` como una lista de $T$ elementos (el número de pasos en el tiempo) donde cada elemento es un diccionario vacío. Mientras recorremos en el tiempo, y por cada tiempo, las partículas del ensemble (recorremos cada conjunto de partículas), vamos completando cada diccionario con la posición alcanzada como clave y la cantidad de partículas como su valor. Es claro que para $T=0$, tendremos un dicionario del tipo `{0: N*M/2, 1:N*M/2}`, esto quiere decir que para las condiciones iniciales tenemos la mitad de las partículas en $x=0$ y la segunda mitad en $x=1$. El diccionario por cad paso de tiempo irá teniendo más elementos del tipo clave valor, por la evolución según random walk de todas las partículas."
      ]
    },
    {
      "cell_type": "code",
      "metadata": {
        "colab": {
          "base_uri": "https://localhost:8080/"
        },
        "id": "zO3qTCzMirzv",
        "outputId": "bab4696b-c1c2-4c10-faa6-1a221a87cd05"
      },
      "source": [
        "density_total = [{} for _ in range(T)]\n",
        "\n",
        "def merge(particle):\n",
        "  for t in range(particle.T):\n",
        "    for k, v in particle.density[t].items():\n",
        "\n",
        "      if k not in density_total[t]:\n",
        "        density_total[t][k] = v\n",
        "      else:\n",
        "        density_total[t][k] = density_total[t][k] + v\n",
        "\n",
        "      #print(k, v)\n",
        "\n",
        "for particle in ensemble.ensemble:\n",
        "  merge(particle)\n",
        "\n",
        "print(density_total[0])"
      ],
      "execution_count": null,
      "outputs": [
        {
          "output_type": "stream",
          "text": [
            "{1: 25000, 0: 25000}\n"
          ],
          "name": "stdout"
        }
      ]
    },
    {
      "cell_type": "markdown",
      "metadata": {
        "id": "j-hvjUqw9Yhl"
      },
      "source": [
        "El código de la celda siguiente genera dos listas ($X$ e $Y$) de $T$ elementos que corresponden a listas vacías. $X$ e $Y$ estas listas son usadas para graficar los resultados finales, $X$ contendrá las posiciones e $Y$ el promedio de partículas (es decir dividiremos por $M$ la cantidad de partículas que estén asociadas a esa posición)."
      ]
    },
    {
      "cell_type": "code",
      "metadata": {
        "id": "pk7AduJSu2rz"
      },
      "source": [
        " X = [[] for _ in range(T)]\n",
        " Y = [[] for _ in range(T)]\n",
        "\n",
        "for t in range(T):\n",
        "\n",
        "  for k, v in density_total[t].items():\n",
        "    X[t].append(k)\n",
        "    Y[t].append(v/M)\n",
        "\n"
      ],
      "execution_count": null,
      "outputs": []
    },
    {
      "cell_type": "markdown",
      "metadata": {
        "id": "IYsvRPEa-jyX"
      },
      "source": [
        "Elegimos solo algunos tiempo para ver la evolución del ensemble. Se puede notar que corresponde a una curva gaussiana que va decayendo a través del tiempo"
      ]
    },
    {
      "cell_type": "code",
      "metadata": {
        "colab": {
          "base_uri": "https://localhost:8080/",
          "height": 280
        },
        "id": "1M46kMGcGKn2",
        "outputId": "8ceecb87-647a-4953-82ed-78f4aeb50ec7"
      },
      "source": [
        "plt.scatter(X[250], Y[250], label=r\"T=250[$\\tau$]\")\n",
        "plt.scatter(X[500], Y[500], label=r\"T=500[$\\tau$]\")\n",
        "plt.scatter(X[750], Y[750], label=r\"T=750[$\\tau$]\")\n",
        "plt.scatter(X[1000], Y[1000], label=r\"T=1000[$\\tau$]\")\n",
        "plt.scatter(X[1500], Y[1500], label=r\"T=1500[$\\tau$]\")\n",
        "plt.scatter(X[2400], Y[2400], label=r\"T=2400[$\\tau$]\")\n",
        "plt.scatter(X[4900], Y[4900], label=r\"T=4900[$\\tau$]\")\n",
        "plt.xlim([min(X[4900]), -min(X[4900])])\n",
        "plt.legend()\n",
        "plt.xlabel(r'x [l]')\n",
        "plt.ylabel(r'particles [-]')\n",
        "plt.show()"
      ],
      "execution_count": null,
      "outputs": [
        {
          "output_type": "display_data",
          "data": {
            "image/png": "[encoded data removed]",
            "text/plain": [
              "<Figure size 432x288 with 1 Axes>"
            ]
          },
          "metadata": {
            "tags": [],
            "needs_background": "light"
          }
        }
      ]
    },
    {
      "cell_type": "markdown",
      "metadata": {
        "id": "RQZ_Y_qYISyc"
      },
      "source": [
        "De momento, nuestras curvas tienen forma de campana de Gauss, pero ¿realmente es así?, para ello haremos un ajuste de curva usando curve_fit, para ellos necesitamos una función objetivo, que será la función de Green para la ecuación de difusión es:\n",
        "\n"
      ]
    },
    {
      "cell_type": "markdown",
      "metadata": {
        "id": "hkUx9D2DJHe3"
      },
      "source": [
        "$C(x, t) = \\frac{1}{\\sqrt{4 \\pi D t}} e^{-\\frac{|x-x_{0}|^2}{4 D t}}$"
      ]
    },
    {
      "cell_type": "code",
      "metadata": {
        "id": "zN8nJmBiH9VI"
      },
      "source": [
        "import math\n",
        "def green_function(x, x_0, D):\n",
        "    return 1./math.sqrt(4*math.pi*time)*np.exp(-(x-x_0)**2/(4*D*time))"
      ],
      "execution_count": null,
      "outputs": []
    },
    {
      "cell_type": "markdown",
      "metadata": {
        "id": "mQBpb2biJs_d"
      },
      "source": [
        "Es una función que evoluciona en el tiempo, por lo que haremos un ajuste de curva para cada paso de tiempo, y obtendremos las constantes del problema: $D$ y $x_0$, donde $D$ es la constante de difusión y $x_0$ es la media de las posiciones."
      ]
    },
    {
      "cell_type": "code",
      "metadata": {
        "id": "bKlgSGfZpMCX"
      },
      "source": [
        "times = [t for t in range(500, T)]\n",
        "D = []\n",
        "std = []\n",
        "\n",
        "for time in times:\n",
        "  x = np.array(X[time])\n",
        "  y = np.array(Y[time])\n",
        "  res, cov = curve_fit(green_function, x, y)\n",
        "  D.append(res[1])\n",
        "  std.append(math.sqrt(2*time*D[-1]))\n"
      ],
      "execution_count": null,
      "outputs": []
    },
    {
      "cell_type": "markdown",
      "metadata": {
        "id": "BrhGEC9SSEmO"
      },
      "source": [
        "Obtendremos un $D$ diferente por cada paso de tiempo, el cual graficaremos"
      ]
    },
    {
      "cell_type": "code",
      "metadata": {
        "colab": {
          "base_uri": "https://localhost:8080/",
          "height": 287
        },
        "id": "wNrKFuESLuty",
        "outputId": "678c8dd6-9432-4085-dfe9-a118821d6b95"
      },
      "source": [
        "plt.plot(times, D, label=r\"$D$\")\n",
        "plt.ylim([100.0, 103.0])\n",
        "plt.xlim([times[0], 2500])\n",
        "plt.legend()\n",
        "plt.xlabel(r'time [$\\tau$]')\n",
        "plt.ylabel(r'$D$ [$l^2/\\tau$]')\n",
        "plt.show()"
      ],
      "execution_count": null,
      "outputs": [
        {
          "output_type": "display_data",
          "data": {
            "image/png": "[encoded data removed]",
            "text/plain": [
              "<Figure size 432x288 with 1 Axes>"
            ]
          },
          "metadata": {
            "tags": [],
            "needs_background": "light"
          }
        }
      ]
    },
    {
      "cell_type": "markdown",
      "metadata": {
        "id": "apJN9Gl4Q98b"
      },
      "source": [
        "Se puede apreciar que $D\\approx 101 \\:  l^2/\\tau$. Si consideramos que los saltos en el espacio son de 1 angstrom y con frecuencia de 1 [$ns$], el valor de $D_{1}$ es 101 $A^2/\\mu s$. Si consideramos que $\\tau=1 ps$, entonces el nuevo coeficiente $D_{2}=101 A^2/ps $ es 1000 veces mayor a $D_{1}$ ($D_2 = 1000D_{1}$)."
      ]
    },
    {
      "cell_type": "markdown",
      "metadata": {
        "id": "qFeYjEAxSfgT"
      },
      "source": [
        "Podemos notar que la desviación estándar $\\sigma$ aumenta a medida que pasa el tiempo. Esta desviación evoluciona según $\\propto \\sqrt{t}$. En la figura siguiente se puede apreciar la curva de la desviación estándar frente a la curva $\\sqrt{t\\cdot N}$"
      ]
    },
    {
      "cell_type": "code",
      "metadata": {
        "colab": {
          "base_uri": "https://localhost:8080/",
          "height": 283
        },
        "id": "nklrqNHep5G5",
        "outputId": "7ef5e60b-26cf-4097-d0f1-0138a5a0b46b"
      },
      "source": [
        "b = [math.sqrt(t*N/2) for t in times]\n",
        "plt.plot(times, std, label=r\"$\\sigma$\")\n",
        "plt.plot(times, b, label=r\"$\\sqrt{Nt}$\")\n",
        "plt.legend()\n",
        "plt.xlabel(r\"time [$\\tau$]\")\n",
        "plt.ylabel(r\"$\\sigma$\")\n",
        "plt.show()\n"
      ],
      "execution_count": null,
      "outputs": [
        {
          "output_type": "display_data",
          "data": {
            "image/png": "[encoded data removed]",
            "text/plain": [
              "<Figure size 432x288 with 1 Axes>"
            ]
          },
          "metadata": {
            "tags": [],
            "needs_background": "light"
          }
        }
      ]
    },
    {
      "cell_type": "markdown",
      "metadata": {
        "id": "uPJ675HpIEzp"
      },
      "source": [
        "**Conclusión**\n",
        "\n",
        "Se realizó una simulación de random walk, considerando $M=100$ conjuntos de $N=500$ partículas para un tiempo de simulación completo de $T=5000 \\tau$. Pudimos notar que a partir de un sistema microscópico se puede obtener resultados medibles a macro escala, en este caso particular el coeficiente de difusión $D$. Esto quiere decir que el mecanismo de difusión es intrínsicamente un fenómeno molecular.\n",
        "\n",
        "Además se puede apreciar que la concentración de partículas corresponde a una distribución gaussiana que evoluciona según la ecuación de Green (la cual es una solución para la ecuación de difusión) a medida que pasa el tiempo. Para cada paso de tiempo se realiza un ajuste de la curva, obteniendo como parámetros del problema $D$ y $x_0$. El valor de D a medida que pasa el tiempo se mantiene prácticamente constante $101 \\:  l^2/\\tau$, como es de esperar una vez establecido los parámetros del problema, este no es dependiente del tiempo. Considerando un salto característico de $1 A$ con frecuencia $1ns$ el valor de $D$ es $101 A^2/ns$. Si consideramos que la frecuencia aumenta a $1 ps$, el coeficiente de difusión aumenta en un factor de 1000, esto debido a que las partículas se mueven más rápido y podrán\n",
        "\n",
        "Para simulaciones moleculares se puede computar $D$ a partir de la diferencia de posiciones llamada mean square displacement (MSD), según la relación $<(X(t)-X(0))^2> = 2 D t$."
      ]
    }
  ]
}